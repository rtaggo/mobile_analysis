{
 "cells": [
  {
   "cell_type": "code",
   "execution_count": 1,
   "metadata": {},
   "outputs": [],
   "source": [
    "%load_ext google.cloud.bigquery"
   ]
  },
  {
   "cell_type": "code",
   "execution_count": 2,
   "metadata": {},
   "outputs": [],
   "source": [
    "from google.cloud import bigquery\n",
    "import datetime\n",
    "import pandas as pd"
   ]
  },
  {
   "cell_type": "code",
   "execution_count": 3,
   "metadata": {},
   "outputs": [],
   "source": [
    "client = bigquery.Client()"
   ]
  },
  {
   "cell_type": "code",
   "execution_count": 4,
   "metadata": {},
   "outputs": [],
   "source": [
    "limits = 'LIMIT 15000'\n",
    "limits=''\n",
    "sql_events = f\"\"\"\n",
    "WITH geovisits_h3_indexes AS (\n",
    "    SELECT *, `carto-os-eu`.h3.LONGLAT_ASH3(longitude, latitude, 10) h3_idx\n",
    "    FROM `ggo-ppos-bqgis.singlespot.geovisits_paris_matview`\n",
    ")\n",
    "select sptId, uuid, latitude, longitude, accuracy, eventId,  \n",
    "arrival, departure, score, rank, category, feature, placeName, h3_idx \n",
    "FROM geovisits_h3_indexes {limits}\n",
    "\"\"\""
   ]
  },
  {
   "cell_type": "code",
   "execution_count": 5,
   "metadata": {},
   "outputs": [
    {
     "data": {
      "text/html": [
       "<div>\n",
       "<style scoped>\n",
       "    .dataframe tbody tr th:only-of-type {\n",
       "        vertical-align: middle;\n",
       "    }\n",
       "\n",
       "    .dataframe tbody tr th {\n",
       "        vertical-align: top;\n",
       "    }\n",
       "\n",
       "    .dataframe thead th {\n",
       "        text-align: right;\n",
       "    }\n",
       "</style>\n",
       "<table border=\"1\" class=\"dataframe\">\n",
       "  <thead>\n",
       "    <tr style=\"text-align: right;\">\n",
       "      <th></th>\n",
       "      <th>sptId</th>\n",
       "      <th>uuid</th>\n",
       "      <th>latitude</th>\n",
       "      <th>longitude</th>\n",
       "      <th>accuracy</th>\n",
       "      <th>eventId</th>\n",
       "      <th>arrival</th>\n",
       "      <th>departure</th>\n",
       "      <th>score</th>\n",
       "      <th>rank</th>\n",
       "      <th>category</th>\n",
       "      <th>feature</th>\n",
       "      <th>placeName</th>\n",
       "      <th>h3_idx</th>\n",
       "    </tr>\n",
       "  </thead>\n",
       "  <tbody>\n",
       "    <tr>\n",
       "      <th>0</th>\n",
       "      <td>7d21b764-daae-4eb2-8330-a1fa6d0367af</td>\n",
       "      <td>9cf02c39-87ce-4865-9a6d-a46adb199ed3</td>\n",
       "      <td>48.824074</td>\n",
       "      <td>2.373960</td>\n",
       "      <td>48.0</td>\n",
       "      <td>84ea804206129a24f1075da79ffea90da8cc6796e42be0...</td>\n",
       "      <td>2021-07-14 10:34:34 +0200</td>\n",
       "      <td>2021-07-14 10:39:35 +0200</td>\n",
       "      <td>0.346496</td>\n",
       "      <td>1</td>\n",
       "      <td>amenity</td>\n",
       "      <td>veterinary</td>\n",
       "      <td>Obsèques Animales</td>\n",
       "      <td>8a1fb4646327fff</td>\n",
       "    </tr>\n",
       "    <tr>\n",
       "      <th>1</th>\n",
       "      <td>8a8f87c1-7dd0-4376-babc-455dd7c3b8b0</td>\n",
       "      <td>7cab399a-d75c-48b1-9c5c-1cb44e4ae337</td>\n",
       "      <td>48.840264</td>\n",
       "      <td>2.341110</td>\n",
       "      <td>42.0</td>\n",
       "      <td>5a5786eed2f59a4119137d0ac227be2f599b7a08ce0224...</td>\n",
       "      <td>2021-07-13 07:41:42 +0200</td>\n",
       "      <td>2021-07-13 09:44:50 +0200</td>\n",
       "      <td>0.512278</td>\n",
       "      <td>1</td>\n",
       "      <td>office</td>\n",
       "      <td>association</td>\n",
       "      <td>Communauté Chrétienne Universitaire</td>\n",
       "      <td>8a1fb4671ccffff</td>\n",
       "    </tr>\n",
       "    <tr>\n",
       "      <th>2</th>\n",
       "      <td>c6aa8b4f-857a-42e6-9093-3a6743eaf127</td>\n",
       "      <td>6b8927ca-e0c8-4979-b242-b4e12946a53d</td>\n",
       "      <td>48.880470</td>\n",
       "      <td>2.327291</td>\n",
       "      <td>57.0</td>\n",
       "      <td>938ca94e31e6c22fd016224e2fc845ceab87442c65a1ee...</td>\n",
       "      <td>2021-07-09 11:10:18 +0200</td>\n",
       "      <td>2021-07-09 11:32:37 +0200</td>\n",
       "      <td>0.821422</td>\n",
       "      <td>1</td>\n",
       "      <td>shop</td>\n",
       "      <td>model</td>\n",
       "      <td>Au Pullman</td>\n",
       "      <td>8a1fb4666c37fff</td>\n",
       "    </tr>\n",
       "    <tr>\n",
       "      <th>3</th>\n",
       "      <td>1d32bf1b-8694-4598-a569-773c6659303f</td>\n",
       "      <td>ac975d15-555a-4131-8f8d-f90268474e8f</td>\n",
       "      <td>48.844595</td>\n",
       "      <td>2.376132</td>\n",
       "      <td>48.0</td>\n",
       "      <td>f-5f82826cad9aa807265dc87f08a4ab9112faba8b</td>\n",
       "      <td>2021-07-08 17:46:16 +0200</td>\n",
       "      <td>2021-07-08 18:15:50 +0200</td>\n",
       "      <td>0.365783</td>\n",
       "      <td>1</td>\n",
       "      <td>tourism</td>\n",
       "      <td>artwork</td>\n",
       "      <td>None</td>\n",
       "      <td>8a1fb464410ffff</td>\n",
       "    </tr>\n",
       "    <tr>\n",
       "      <th>4</th>\n",
       "      <td>b8fbec5b-0de2-4383-9276-de5f22c6fe8d</td>\n",
       "      <td>0b518296-1a3c-4d18-bef8-8f15ed056fe8</td>\n",
       "      <td>48.884469</td>\n",
       "      <td>2.344850</td>\n",
       "      <td>48.0</td>\n",
       "      <td>5a2fa95268e830ecbdbe990a242f467a5c586b1c6c27d0...</td>\n",
       "      <td>2021-07-10 16:02:04 +0200</td>\n",
       "      <td>2021-07-10 17:10:15 +0200</td>\n",
       "      <td>0.565314</td>\n",
       "      <td>1</td>\n",
       "      <td>shop</td>\n",
       "      <td>fabric</td>\n",
       "      <td>Les Coupons de Saint-Pierre</td>\n",
       "      <td>8a1fb4666baffff</td>\n",
       "    </tr>\n",
       "  </tbody>\n",
       "</table>\n",
       "</div>"
      ],
      "text/plain": [
       "                                  sptId                                  uuid  \\\n",
       "0  7d21b764-daae-4eb2-8330-a1fa6d0367af  9cf02c39-87ce-4865-9a6d-a46adb199ed3   \n",
       "1  8a8f87c1-7dd0-4376-babc-455dd7c3b8b0  7cab399a-d75c-48b1-9c5c-1cb44e4ae337   \n",
       "2  c6aa8b4f-857a-42e6-9093-3a6743eaf127  6b8927ca-e0c8-4979-b242-b4e12946a53d   \n",
       "3  1d32bf1b-8694-4598-a569-773c6659303f  ac975d15-555a-4131-8f8d-f90268474e8f   \n",
       "4  b8fbec5b-0de2-4383-9276-de5f22c6fe8d  0b518296-1a3c-4d18-bef8-8f15ed056fe8   \n",
       "\n",
       "    latitude  longitude  accuracy  \\\n",
       "0  48.824074   2.373960      48.0   \n",
       "1  48.840264   2.341110      42.0   \n",
       "2  48.880470   2.327291      57.0   \n",
       "3  48.844595   2.376132      48.0   \n",
       "4  48.884469   2.344850      48.0   \n",
       "\n",
       "                                             eventId  \\\n",
       "0  84ea804206129a24f1075da79ffea90da8cc6796e42be0...   \n",
       "1  5a5786eed2f59a4119137d0ac227be2f599b7a08ce0224...   \n",
       "2  938ca94e31e6c22fd016224e2fc845ceab87442c65a1ee...   \n",
       "3         f-5f82826cad9aa807265dc87f08a4ab9112faba8b   \n",
       "4  5a2fa95268e830ecbdbe990a242f467a5c586b1c6c27d0...   \n",
       "\n",
       "                     arrival                  departure     score  rank  \\\n",
       "0  2021-07-14 10:34:34 +0200  2021-07-14 10:39:35 +0200  0.346496     1   \n",
       "1  2021-07-13 07:41:42 +0200  2021-07-13 09:44:50 +0200  0.512278     1   \n",
       "2  2021-07-09 11:10:18 +0200  2021-07-09 11:32:37 +0200  0.821422     1   \n",
       "3  2021-07-08 17:46:16 +0200  2021-07-08 18:15:50 +0200  0.365783     1   \n",
       "4  2021-07-10 16:02:04 +0200  2021-07-10 17:10:15 +0200  0.565314     1   \n",
       "\n",
       "  category      feature                            placeName           h3_idx  \n",
       "0  amenity   veterinary                    Obsèques Animales  8a1fb4646327fff  \n",
       "1   office  association  Communauté Chrétienne Universitaire  8a1fb4671ccffff  \n",
       "2     shop        model                           Au Pullman  8a1fb4666c37fff  \n",
       "3  tourism      artwork                                 None  8a1fb464410ffff  \n",
       "4     shop       fabric          Les Coupons de Saint-Pierre  8a1fb4666baffff  "
      ]
     },
     "execution_count": 5,
     "metadata": {},
     "output_type": "execute_result"
    }
   ],
   "source": [
    "rows = client.query(sql_events).result()\n",
    "df = rows.to_dataframe()\n",
    "df.head()"
   ]
  },
  {
   "cell_type": "code",
   "execution_count": 6,
   "metadata": {},
   "outputs": [
    {
     "name": "stdout",
     "output_type": "stream",
     "text": [
      "<class 'pandas.core.frame.DataFrame'>\n",
      "RangeIndex: 481634 entries, 0 to 481633\n",
      "Data columns (total 15 columns):\n",
      " #   Column     Non-Null Count   Dtype              \n",
      "---  ------     --------------   -----              \n",
      " 0   sptId      481634 non-null  object             \n",
      " 1   uuid       481634 non-null  object             \n",
      " 2   latitude   481634 non-null  float64            \n",
      " 3   longitude  481634 non-null  float64            \n",
      " 4   accuracy   481634 non-null  float64            \n",
      " 5   eventId    481634 non-null  object             \n",
      " 6   arrival    481634 non-null  datetime64[ns, UTC]\n",
      " 7   departure  481634 non-null  object             \n",
      " 8   score      481634 non-null  float64            \n",
      " 9   rank       481634 non-null  int64              \n",
      " 10  category   481634 non-null  object             \n",
      " 11  feature    481634 non-null  object             \n",
      " 12  placeName  325184 non-null  object             \n",
      " 13  h3_idx     481634 non-null  object             \n",
      " 14  depature   481634 non-null  datetime64[ns, UTC]\n",
      "dtypes: datetime64[ns, UTC](2), float64(4), int64(1), object(8)\n",
      "memory usage: 55.1+ MB\n"
     ]
    }
   ],
   "source": [
    "df['sptId'] = df['sptId'].astype(str)\n",
    "df['category'] = df['category'].astype(str)\n",
    "df['feature'] = df['feature'].astype(str)\n",
    "df['arrival'] = pd.to_datetime(df['arrival'], format='%Y-%m-%d %H:%M:%S', utc=True)\n",
    "df['depature'] = pd.to_datetime(df['departure'], format='%Y-%m-%d %H:%M:%S', utc=True)\n",
    "df.info()"
   ]
  },
  {
   "cell_type": "code",
   "execution_count": null,
   "metadata": {},
   "outputs": [],
   "source": [
    "\"\"\" \n",
    "h3_g = (df\n",
    "                          .groupby('h3_idx')\n",
    "                          .eventId\n",
    "                          .agg(list)\n",
    "                          .to_frame(\"ids\")\n",
    "                          .reset_index())\n",
    "# Let's count each points inside the hexagon\n",
    "h3_g['count'] =(h3_g['ids']\n",
    "                      .apply(lambda ignition_ids:len(ignition_ids))) \n",
    "\"\"\"\n",
    "\n",
    "h3_g = df.groupby('h3_idx').h3_idx.agg('count').to_frame('count').reset_index()"
   ]
  },
  {
   "cell_type": "code",
   "execution_count": null,
   "metadata": {},
   "outputs": [],
   "source": [
    "h3_g.head()"
   ]
  },
  {
   "cell_type": "code",
   "execution_count": null,
   "metadata": {},
   "outputs": [],
   "source": [
    "df_w = pd.DataFrame(df[['h3_idx', 'category']])\n",
    "df_w['count'] = 1\n",
    "df_w.head()\n"
   ]
  },
  {
   "cell_type": "code",
   "execution_count": null,
   "metadata": {},
   "outputs": [],
   "source": [
    "h3_pivot = pd.DataFrame(pd.pivot_table(df_w,  columns='category', index='h3_idx', values=\"count\", aggfunc=[len], fill_value=0, margins = True, margins_name='total')).reset_index()\n",
    "h3_pivot.columns = h3_pivot.columns.map('_'.join).str.replace('len_', '')\n",
    "h3_pivot = h3_pivot.rename(\n",
    "    columns={'h3_idx_': 'h3_idx'})\n",
    "h3_pivot.head()"
   ]
  },
  {
   "cell_type": "code",
   "execution_count": null,
   "metadata": {},
   "outputs": [],
   "source": [
    "# \n",
    "indexNames = h3_pivot[h3_pivot['h3_idx'] == 'total'].index\n",
    "h3_pivot.drop(indexNames, inplace=True)\n",
    "h3_pivot[h3_pivot['h3_idx'] == 'total']\n",
    "# h3_pivot.info()\n"
   ]
  },
  {
   "cell_type": "code",
   "execution_count": null,
   "metadata": {},
   "outputs": [],
   "source": [
    "from shapely.geometry import Polygon\n",
    "from geojson.feature import *\n",
    "import h3"
   ]
  },
  {
   "cell_type": "code",
   "execution_count": null,
   "metadata": {},
   "outputs": [],
   "source": [
    "def create_geometry(row, hex_id_field):\n",
    "  points = h3.h3_to_geo_boundary(row[hex_id_field], True)\n",
    "  return Polygon(points)\n",
    "\n",
    "def hexagons_dataframe_to_geojson(df_hex, hex_id_field, value_field,file_output = None):\n",
    "\n",
    "    list_features = []\n",
    "\n",
    "    for i, row in df_hex.iterrows():\n",
    "        feature = Feature(geometry = create_geometry(row, hex_id_field),\n",
    "                          id = row[hex_id_field],\n",
    "                          properties = {\"value\": row[value_field]})\n",
    "        list_features.append(feature)\n",
    "\n",
    "    feat_collection = FeatureCollection(list_features)\n",
    "\n",
    "    if file_output is not None:\n",
    "        with open(file_output, \"w\") as f:\n",
    "            json.dump(feat_collection, f)\n",
    "\n",
    "    else :\n",
    "      return feat_collection"
   ]
  },
  {
   "cell_type": "code",
   "execution_count": null,
   "metadata": {},
   "outputs": [],
   "source": [
    "geojson_obj =hexagons_dataframe_to_geojson(h3_pivot, hex_id_field='h3_idx', value_field='total')"
   ]
  },
  {
   "cell_type": "code",
   "execution_count": null,
   "metadata": {},
   "outputs": [],
   "source": [
    "import plotly.express as px\n",
    "import plotly.io as pio\n",
    "pio.renderers.default = \"notebook_connected\""
   ]
  },
  {
   "cell_type": "code",
   "execution_count": null,
   "metadata": {},
   "outputs": [],
   "source": [
    "fig = (px.choropleth_mapbox(\n",
    "                    h3_g, \n",
    "                    geojson=geojson_obj, \n",
    "                    locations='h3_idx', \n",
    "                    color='count',\n",
    "                    color_continuous_scale=\"Viridis\",\n",
    "                    range_color=(0,h3_g['count'].mean()),                  \n",
    "                    mapbox_style='carto-positron',\n",
    "                    zoom=12,\n",
    "                    center = {\"lat\": 48.85432452980058, \"lon\": 2.3459243774414062},\n",
    "                    opacity=0.7,\n",
    "                    labels={'count':'# of visits '}))\n",
    "fig.update_layout(margin={\"r\":0,\"t\":0,\"l\":0,\"b\":0})\n",
    "fig.show()"
   ]
  },
  {
   "cell_type": "code",
   "execution_count": null,
   "metadata": {},
   "outputs": [],
   "source": [
    "import matplotlib.pyplot as plt\n",
    "import numpy as np"
   ]
  },
  {
   "cell_type": "code",
   "execution_count": null,
   "metadata": {},
   "outputs": [],
   "source": [
    "df_names = h3_pivot.columns\n",
    "df_names = df_names[1:]\n",
    "df_names"
   ]
  },
  {
   "cell_type": "markdown",
   "metadata": {},
   "source": [
    "```python\n",
    "\"\"\" \n",
    "h3_pivot_corr=h3_pivot[df_names]\n",
    "correlations= h3_pivot_corr.corr()\n",
    "fig=plt.figure()\n",
    "ax=fig.add_subplot(111)\n",
    "cax=ax.matshow(correlations,vmin=-1,vmax=1)\n",
    "fig.colorbar(cax)\n",
    "ticks=np.arange(0,len(df_names),1)\n",
    "ax.set_xticks(ticks)\n",
    "ax.set_yticks(ticks)\n",
    "ax.set_xticklabels(df_names)\n",
    "ax.set_yticklabels(df_names)\n",
    "plt.show() \"\"\"\n",
    "```"
   ]
  },
  {
   "cell_type": "code",
   "execution_count": null,
   "metadata": {},
   "outputs": [],
   "source": [
    "import seaborn as sns\n",
    "h3_pivot_corr=h3_pivot[df_names]\n",
    "correlations= h3_pivot_corr.corr()\n",
    "mask = np.zeros_like(correlations)  # make mask\n",
    "mask[np.triu_indices_from(mask)] = True  # mask the upper triangle\n",
    "fig, ax = plt.subplots(figsize=(11, 9))  # create a figure and a subplot\n",
    "cmap = sns.diverging_palette(220, 10, as_cmap=True)  # custom color map\n",
    "\"\"\"\n",
    "sns.heatmap(\n",
    "    correlations,\n",
    "    mask=mask,\n",
    "    cmap=cmap,\n",
    "    center=0,\n",
    "    linewidth=0.5,\n",
    "    cbar_kws={'shrink': 0.5}\n",
    ")\n",
    "\"\"\"\n",
    "sns.heatmap(\n",
    "    correlations,\n",
    "    annot=True\n",
    ")"
   ]
  }
 ],
 "metadata": {
  "kernelspec": {
   "display_name": "Python 3.9.6 ('env': venv)",
   "language": "python",
   "name": "python3"
  },
  "language_info": {
   "codemirror_mode": {
    "name": "ipython",
    "version": 3
   },
   "file_extension": ".py",
   "mimetype": "text/x-python",
   "name": "python",
   "nbconvert_exporter": "python",
   "pygments_lexer": "ipython3",
   "version": "3.9.6"
  },
  "orig_nbformat": 4,
  "vscode": {
   "interpreter": {
    "hash": "9f5fa76a3fd015e0f497a7f05f6fdac1bf817716a797937988aafd8d8d4ad408"
   }
  }
 },
 "nbformat": 4,
 "nbformat_minor": 2
}
