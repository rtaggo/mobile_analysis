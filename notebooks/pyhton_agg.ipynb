{
 "cells": [
  {
   "cell_type": "markdown",
   "metadata": {},
   "source": [
    "# Load dependencies"
   ]
  },
  {
   "cell_type": "code",
   "execution_count": null,
   "metadata": {},
   "outputs": [],
   "source": [
    "from google.cloud import bigquery\n",
    "import datetime\n",
    "import pandas as pd\n",
    "import numpy as np"
   ]
  },
  {
   "cell_type": "code",
   "execution_count": null,
   "metadata": {},
   "outputs": [],
   "source": [
    "client = bigquery.Client()"
   ]
  },
  {
   "cell_type": "code",
   "execution_count": null,
   "metadata": {},
   "outputs": [],
   "source": [
    "limits = 'LIMIT 15000'\n",
    "sql_events = f\"\"\"\n",
    "WITH geovisits_h3_indexes AS (\n",
    "    SELECT *, `carto-os-eu`.h3.LONGLAT_ASH3(longitude, latitude, 10) h3_idx\n",
    "    FROM `ggo-ppos-bqgis.singlespot.geovisits_paris_matview`\n",
    ")\n",
    "select sptId, uuid, latitude, longitude, accuracy, eventId,  \n",
    "arrival, departure, score, rank, category, feature, placeName, h3_idx \n",
    "FROM geovisits_h3_indexes {limits}\n",
    "\"\"\""
   ]
  },
  {
   "cell_type": "code",
   "execution_count": null,
   "metadata": {},
   "outputs": [],
   "source": [
    "rows = client.query(sql_events).result()\n",
    "df = rows.to_dataframe()\n",
    "df.head()"
   ]
  },
  {
   "cell_type": "code",
   "execution_count": null,
   "metadata": {},
   "outputs": [],
   "source": [
    "df['sptId'] = df['sptId'].astype(str)\n",
    "df['category'] = df['category'].astype(str)\n",
    "df['feature'] = df['feature'].astype(str)\n",
    "df['arrival'] = pd.to_datetime(df['arrival'], format='%Y-%m-%d %H:%M:%S', utc=True)\n",
    "df['depature'] = pd.to_datetime(df['departure'], format='%Y-%m-%d %H:%M:%S', utc=True)\n",
    "df.info()"
   ]
  },
  {
   "cell_type": "code",
   "execution_count": null,
   "metadata": {},
   "outputs": [],
   "source": [
    "df_w = pd.DataFrame(df[['h3_idx', 'category', 'feature']])\n",
    "df_w['count'] = 1\n",
    "df_w.head()\n"
   ]
  },
  {
   "cell_type": "code",
   "execution_count": null,
   "metadata": {},
   "outputs": [],
   "source": [
    "df_w['category'].unique()"
   ]
  },
  {
   "cell_type": "code",
   "execution_count": null,
   "metadata": {},
   "outputs": [],
   "source": [
    "filtered_categories = ['amenity', 'shop', 'user']\n",
    "df_w['category_2'] = np.where(df_w['category'].isin(filtered_categories), df_w['category'], 'others')\n",
    "df_w['feature_2'] = np.where(df_w['category'].isin(filtered_categories), df_w['feature'], 'others')\n",
    "df_w.head()\n",
    "#amenities_shops[amenities_shops['category'] =='amenity']['feature'].unique()"
   ]
  },
  {
   "cell_type": "code",
   "execution_count": null,
   "metadata": {},
   "outputs": [],
   "source": [
    "print(df_w['category_2'].unique())\n",
    "filtered_categories = [ 'shop']\n",
    "print(df_w[df_w['category_2']=='shop']['feature_2'].unique())\n"
   ]
  },
  {
   "cell_type": "code",
   "execution_count": null,
   "metadata": {},
   "outputs": [],
   "source": [
    "amenities_features = df_w[df_w['category_2']=='amenity']['feature_2'].unique()\n",
    "print(amenities_features)"
   ]
  },
  {
   "cell_type": "code",
   "execution_count": null,
   "metadata": {},
   "outputs": [],
   "source": [
    "amenities_features = df_w[df_w['category_2']=='user']['feature_2'].unique()\n",
    "print(amenities_features)"
   ]
  },
  {
   "cell_type": "code",
   "execution_count": null,
   "metadata": {},
   "outputs": [],
   "source": [
    "amenities_features = df_w[df_w['category_2']=='shop']['feature_2'].unique()\n",
    "print(amenities_features)"
   ]
  },
  {
   "cell_type": "code",
   "execution_count": null,
   "metadata": {},
   "outputs": [],
   "source": [
    "df_w['category_2'].unique()"
   ]
  },
  {
   "cell_type": "code",
   "execution_count": null,
   "metadata": {},
   "outputs": [],
   "source": [
    "grouped_columns = ['category_2', 'feature_2']"
   ]
  },
  {
   "cell_type": "code",
   "execution_count": null,
   "metadata": {},
   "outputs": [],
   "source": [
    "h3_pivot = pd.DataFrame(pd.pivot_table(df_w,  columns=grouped_columns, index='h3_idx', values=\"count\", aggfunc='sum', fill_value=0, margins = True, margins_name='total')).reset_index()\n",
    "h3_pivot.columns = h3_pivot.columns.map('_'.join).str.replace('len_', '')\n",
    "\n",
    "h3_pivot.rename(columns={ h3_pivot.columns[0]: \"h3_idx\" }, inplace=True)\n",
    "h3_pivot.head()"
   ]
  },
  {
   "cell_type": "code",
   "execution_count": null,
   "metadata": {},
   "outputs": [],
   "source": [
    "indexNames = h3_pivot[h3_pivot['h3_idx'] == 'total'].index\n",
    "h3_pivot.drop(indexNames, inplace=True)"
   ]
  },
  {
   "cell_type": "code",
   "execution_count": null,
   "metadata": {},
   "outputs": [],
   "source": [
    "import plotly.express as px\n",
    "import plotly.io as pio\n",
    "pio.renderers.default = \"notebook_connected\"\n",
    "import matplotlib.pyplot as plt"
   ]
  },
  {
   "cell_type": "code",
   "execution_count": null,
   "metadata": {},
   "outputs": [],
   "source": [
    "df_names = h3_pivot.columns\n",
    "df_names = df_names[1:]\n",
    "df_names"
   ]
  },
  {
   "cell_type": "code",
   "execution_count": null,
   "metadata": {},
   "outputs": [],
   "source": [
    "import seaborn as sns\n",
    "h3_pivot_corr=h3_pivot[df_names]\n",
    "correlations= h3_pivot_corr.corr()\n",
    "mask = np.zeros_like(correlations)  # make mask\n",
    "mask[np.triu_indices_from(mask)] = True  # mask the upper triangle\n",
    "fig, ax = plt.subplots(figsize=(11, 9))  # create a figure and a subplot\n",
    "cmap = sns.diverging_palette(220, 10, as_cmap=True)  # custom color map\n",
    "\"\"\"\n",
    "sns.heatmap(\n",
    "    correlations,\n",
    "    mask=mask,\n",
    "    cmap=cmap,\n",
    "    center=0,\n",
    "    linewidth=0.5,\n",
    "    cbar_kws={'shrink': 0.5}\n",
    ")\n",
    "\"\"\"\n",
    "sns.heatmap(\n",
    "    correlations,\n",
    "    annot=True\n",
    ")"
   ]
  }
 ],
 "metadata": {
  "interpreter": {
   "hash": "7d4b87a31be3be5552b9d089024709dbfa8582e38000e3c08e4b675c3dfaa523"
  },
  "kernelspec": {
   "display_name": "Python 3.9.6 ('env': venv)",
   "language": "python",
   "name": "python3"
  },
  "language_info": {
   "codemirror_mode": {
    "name": "ipython",
    "version": 3
   },
   "file_extension": ".py",
   "mimetype": "text/x-python",
   "name": "python",
   "nbconvert_exporter": "python",
   "pygments_lexer": "ipython3",
   "version": "3.9.6"
  },
  "orig_nbformat": 4
 },
 "nbformat": 4,
 "nbformat_minor": 2
}
